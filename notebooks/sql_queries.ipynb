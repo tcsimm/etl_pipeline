{
 "cells": [
  {
   "cell_type": "code",
   "execution_count": 3,
   "id": "1a677b91",
   "metadata": {},
   "outputs": [],
   "source": [
    "import sqlite3\n",
    "import pandas as pd\n",
    "\n",
    "conn = sqlite3.connect(\"/Users/thomassimmons/c/new/data/retail.db\")"
   ]
  },
  {
   "cell_type": "code",
   "execution_count": 6,
   "id": "e8db257f",
   "metadata": {},
   "outputs": [
    {
     "name": "stdout",
     "output_type": "stream",
     "text": [
      "          name\n",
      "0     products\n",
      "1       orders\n",
      "2  order_items\n",
      "3    customers\n"
     ]
    }
   ],
   "source": [
    "tables = pd.read_sql(\"SELECT name FROM sqlite_master WHERE type='table';\", conn)\n",
    "print(tables)"
   ]
  },
  {
   "cell_type": "code",
   "execution_count": 9,
   "id": "41367182",
   "metadata": {},
   "outputs": [
    {
     "name": "stdout",
     "output_type": "stream",
     "text": [
      "    product_id  product_name     category list_price\n",
      "0         1001  Product 1001     clothing    $124,71\n",
      "1         1002  Product 1002      grocery     $17.81\n",
      "2         1003  Product 1003         Home    $211.50\n",
      "3         1004  Product 1004         Home     $80.27\n",
      "4         1005  Product 1005  Electronics       None\n",
      "5         1006  Product 1006  Electronics    $277.36\n",
      "6         1007  Product 1007      grocery    $331.65\n",
      "7         1008  Product 1008  Electronics    $417.55\n",
      "8         1009  Product 1009     Clothing    $305.74\n",
      "9         1010  Product 1010         toys    $345.02\n",
      "10        1011  Product 1011  electronics    $159.78\n",
      "11        1012  Product 1012     Clothing    $199.63\n",
      "12        1013  Product 1013         Home    $374.27\n",
      "13        1014  Product 1014         Home     $26.42\n",
      "14        1015  Product 1015         Toys    $299.16\n",
      "15        1016  Product 1016  Electronics    $442.74\n",
      "16        1017  Product 1017        Books    $477.05\n"
     ]
    }
   ],
   "source": [
    "df = pd.read_sql(\"SELECT * FROM products;\", conn)\n",
    "print(df)"
   ]
  }
 ],
 "metadata": {
  "kernelspec": {
   "display_name": "base",
   "language": "python",
   "name": "python3"
  },
  "language_info": {
   "codemirror_mode": {
    "name": "ipython",
    "version": 3
   },
   "file_extension": ".py",
   "mimetype": "text/x-python",
   "name": "python",
   "nbconvert_exporter": "python",
   "pygments_lexer": "ipython3",
   "version": "3.12.4"
  }
 },
 "nbformat": 4,
 "nbformat_minor": 5
}
