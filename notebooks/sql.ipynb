{
 "cells": [
  {
   "cell_type": "code",
   "execution_count": 2,
   "id": "8caf4695",
   "metadata": {},
   "outputs": [],
   "source": [
    "import pandas as pd\n",
    "import sqlite3\n",
    "import os\n",
    "\n",
    "DATA_DIR = \"/Users/thomassimmons/c/new/data\"\n",
    "FILES = {\n",
    "    \"products\": os.path.join(DATA_DIR, \"/Users/thomassimmons/c/new/data/products.csv\"),\n",
    "    \"orders\": os.path.join(DATA_DIR, \"/Users/thomassimmons/c/new/data/products.csv\"),\n",
    "    \"order_items\": os.path.join(DATA_DIR, \"/Users/thomassimmons/c/new/data/order_items.csv\"),\n",
    "    \"customers\": os.path.join(DATA_DIR, \"/Users/thomassimmons/c/new/data/customers.csv\"),\n",
    "}"
   ]
  },
  {
   "cell_type": "code",
   "execution_count": 1,
   "id": "0ed0117d",
   "metadata": {},
   "outputs": [],
   "source": [
    "# Pandas dtype -> SQLite type\n",
    "PANDAS_TO_SQLITE = {\n",
    "    \"int64\": \"INTEGER\",\n",
    "    \"Int64\": \"INTEGER\",\n",
    "    \"float64\": \"REAL\",\n",
    "    \"Float64\": \"REAL\",\n",
    "    \"bool\": \"INTEGER\",\n",
    "    \"boolean\": \"INTEGER\",\n",
    "    \"datetime64[ns]\": \"TEXT\",  # store ISO strings unless you want Julian day\n",
    "    \"string\": \"TEXT\",\n",
    "    \"object\": \"TEXT\",\n",
    "}\n"
   ]
  },
  {
   "cell_type": "code",
   "execution_count": null,
   "id": "60b0a116",
   "metadata": {},
   "outputs": [],
   "source": []
  }
 ],
 "metadata": {
  "kernelspec": {
   "display_name": "base",
   "language": "python",
   "name": "python3"
  },
  "language_info": {
   "codemirror_mode": {
    "name": "ipython",
    "version": 3
   },
   "file_extension": ".py",
   "mimetype": "text/x-python",
   "name": "python",
   "nbconvert_exporter": "python",
   "pygments_lexer": "ipython3",
   "version": "3.12.4"
  }
 },
 "nbformat": 4,
 "nbformat_minor": 5
}
